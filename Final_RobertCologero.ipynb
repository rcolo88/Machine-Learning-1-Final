{
  "nbformat": 4,
  "nbformat_minor": 0,
  "metadata": {
    "colab": {
      "name": "Final_RobertCologero.ipynb",
      "provenance": [],
      "collapsed_sections": [],
      "include_colab_link": true
    },
    "kernelspec": {
      "name": "python3",
      "display_name": "Python 3"
    },
    "language_info": {
      "name": "python"
    }
  },
  "cells": [
    {
      "cell_type": "markdown",
      "metadata": {
        "id": "view-in-github",
        "colab_type": "text"
      },
      "source": [
        "<a href=\"https://colab.research.google.com/github/rcolo88/Machine-Learning-1-Final/blob/main/Final_RobertCologero.ipynb\" target=\"_parent\"><img src=\"https://colab.research.google.com/assets/colab-badge.svg\" alt=\"Open In Colab\"/></a>"
      ]
    },
    {
      "cell_type": "markdown",
      "metadata": {
        "id": "BpKD9liuYOpc"
      },
      "source": [
        "# Final\n"
      ]
    },
    {
      "cell_type": "code",
      "metadata": {
        "colab": {
          "base_uri": "https://localhost:8080/"
        },
        "id": "IxPB41dIHKnY",
        "outputId": "16607e85-a49f-4e8a-c460-42b232d90400"
      },
      "source": [
        "%pylab inline \n",
        "import numpy.linalg as LA\n",
        "\n",
        "from sklearn.datasets import fetch_lfw_people\n",
        "from sklearn.model_selection import train_test_split"
      ],
      "execution_count": 1,
      "outputs": [
        {
          "output_type": "stream",
          "name": "stdout",
          "text": [
            "Populating the interactive namespace from numpy and matplotlib\n"
          ]
        }
      ]
    },
    {
      "cell_type": "markdown",
      "metadata": {
        "id": "RmJB2WKJHS6G"
      },
      "source": [
        "Fill in your name in the cell below:"
      ]
    },
    {
      "cell_type": "code",
      "metadata": {
        "colab": {
          "base_uri": "https://localhost:8080/"
        },
        "id": "bYqee8ffHWca",
        "outputId": "6d3523e5-b243-4fc7-b924-f04f79a7d248"
      },
      "source": [
        "# Replace your own name\n",
        "NAME = 'Robert Cologero'\n",
        "print('My name is ' + NAME )"
      ],
      "execution_count": 2,
      "outputs": [
        {
          "output_type": "stream",
          "name": "stdout",
          "text": [
            "My name is Robert Cologero\n"
          ]
        }
      ]
    },
    {
      "cell_type": "markdown",
      "metadata": {
        "id": "cuhJcvjeYWXE"
      },
      "source": [
        "## Final Guideline\n",
        "- The deadline is **Dec 8th 10:30am**. Submission after the deadline will not be graded. \n",
        "\n",
        "- Submit your work(your reasoning and your code) as a SINGLE .ipynb document. Please rename the document as _FINAL_YOURNAME.ipynb_ (for example, _Final_FELIX.ipynb_). You are responsible for checking that you have correctly submitted the correct document. If your code cannot run, you may receive NO point. \n",
        "\n",
        "- You only use the Python packages included in the following cell. You are not allowed to use other advanced package or modules unless you are permitted to. If you would like to implement certain algorithms, you have to implement them from scratch. \n",
        "\n",
        "- In your final submission include the plots produced by the unedited code as presented below, as well as any additional plots produced after editing the code during the course of a problem. You may find it necessary to copy/paste relevant code into additional cells to accomplish this.\n",
        "\n",
        "- Feel free to use the lecture notes and other resources but work on your own!\n",
        "\n"
      ]
    },
    {
      "cell_type": "markdown",
      "metadata": {
        "id": "Im46RA9waWZs"
      },
      "source": [
        "### Additional Guideline\n",
        "\n",
        "- Your job in the final is to perform an analysis of these face image data sets. Your work will be assessed in two parts: **your algorithm performance (70pt)** and **your reasoning (30pt)**. \n",
        "\n",
        "- You can use any (and hopefully all) of the different **clustering** and **classification** methods discussed. Be sure to compare them against each other in these tasks.\n",
        "\n",
        "- Your code should be efficient and finish all these tasks in reasonable running time. So you don't need to show me how you tune these hyper-parameters in your code. But you should mention your tuning process and results in your reasoning. \n",
        "If your code requires excessive time running, your score might be deducted up to 20%. \n",
        "\n",
        "- To give a bit more motivation, I will award bonus points to the top three final work. The winner receives 15pt, the runner up receives 10pt and the third place receives 5pt. I may also award special points for solutions of outstanding elegance.   \n",
        "\n",
        "- (Optional, but strongly recommmended) I suggest you create a github account and upload your final work to a repository. When you submit your final to blackboard, please also include your  link to your github repository.  "
      ]
    },
    {
      "cell_type": "code",
      "metadata": {
        "id": "a0CxcD_lgnyG"
      },
      "source": [
        "\n",
        "# Load the faces datasets\n",
        "lfw_people = fetch_lfw_people(min_faces_per_person=120, resize=0.4)"
      ],
      "execution_count": 3,
      "outputs": []
    },
    {
      "cell_type": "code",
      "metadata": {
        "colab": {
          "base_uri": "https://localhost:8080/"
        },
        "id": "QrN-Jt-eifj1",
        "outputId": "16566457-2f18-4ca7-8da2-073607cbec42"
      },
      "source": [
        "X = lfw_people.images\n",
        "\n",
        "# the label to predict is the id of the person\n",
        "y = lfw_people.target\n",
        "# y values are 0, 1, 2, 3. Each corresponds to the following target names. \n",
        "\n",
        "target_names = lfw_people.target_names\n",
        "print(target_names)\n",
        "print(unique(y))"
      ],
      "execution_count": 4,
      "outputs": [
        {
          "output_type": "stream",
          "name": "stdout",
          "text": [
            "['Colin Powell' 'Donald Rumsfeld' 'George W Bush' 'Tony Blair']\n",
            "[0 1 2 3]\n"
          ]
        }
      ]
    },
    {
      "cell_type": "code",
      "metadata": {
        "colab": {
          "base_uri": "https://localhost:8080/"
        },
        "id": "tzvefObahwPa",
        "outputId": "d8a2cd65-fbe1-4638-a41c-1e26e75fecf1"
      },
      "source": [
        "# Split in training and testing set\n",
        "X_train, X_test, y_train, y_test = train_test_split(X, y, test_size=0.25, random_state=42)\n",
        "\n",
        "print(X_train.shape)\n",
        "print(X_test.shape)\n"
      ],
      "execution_count": 5,
      "outputs": [
        {
          "output_type": "stream",
          "name": "stdout",
          "text": [
            "(773, 50, 37)\n",
            "(258, 50, 37)\n"
          ]
        }
      ]
    },
    {
      "cell_type": "code",
      "metadata": {
        "colab": {
          "base_uri": "https://localhost:8080/",
          "height": 594
        },
        "id": "sB_ZnndejRZ-",
        "outputId": "6db0375b-09c5-4c00-9c91-0c40393df4db"
      },
      "source": [
        "fig, axs = plt.subplots(3, 3,figsize=(10,10))\n",
        "axs = axs.ravel()\n",
        "for i in range(9):\n",
        "    axs[i].imshow(X_train[i], cmap='gray')"
      ],
      "execution_count": 6,
      "outputs": [
        {
          "output_type": "display_data",
          "data": {
            "image/png": "[encoded data removed]",
            "text/plain": [
              "<Figure size 720x720 with 9 Axes>"
            ]
          },
          "metadata": {
            "needs_background": "light"
          }
        }
      ]
    },
    {
      "cell_type": "markdown",
      "metadata": {
        "id": "VvmE8_jL7LDS"
      },
      "source": [
        "\n",
        "\n",
        "---\n",
        "\n",
        "\n",
        "# Task 1: Face Classification\n",
        "Consider the various faces in the **training set** `(X_train, y_train)` and see if you can build a classifier that can reasonably identify an individual face in the **testing set** `(X_test, y_test)`. "
      ]
    },
    {
      "cell_type": "code",
      "metadata": {
        "id": "nEUgSscwsstl"
      },
      "source": [
        "# your code for task 1 starts here"
      ],
      "execution_count": 7,
      "outputs": []
    },
    {
      "cell_type": "code",
      "metadata": {
        "id": "u77IQkxHi6S5"
      },
      "source": [
        "# PCA with SVD method\n",
        "X_train=np.reshape(X_train,(773,1850))  # we must first reshape the original training set so each row is an image\n",
        "xt = np.reshape(X_test,(258,1850))\n",
        "u, s, vh =svd(X_train) \n",
        "\n",
        "#out=vh.T\n",
        "Xtr =X_train. dot(vh[:,:100])\n"
      ],
      "execution_count": 8,
      "outputs": []
    },
    {
      "cell_type": "code",
      "metadata": {
        "colab": {
          "base_uri": "https://localhost:8080/",
          "height": 265
        },
        "id": "xrcgDH-sCjzo",
        "outputId": "4184ae17-4db7-492f-b7bc-2d3a78737f80"
      },
      "source": [
        "scatter(arange(773), log(s));\n",
        "grid('on')"
      ],
      "execution_count": 9,
      "outputs": [
        {
          "output_type": "display_data",
          "data": {
            "image/png": "[encoded data removed]",
            "text/plain": [
              "<Figure size 432x288 with 1 Axes>"
            ]
          },
          "metadata": {
            "needs_background": "light"
          }
        }
      ]
    },
    {
      "cell_type": "code",
      "metadata": {
        "id": "XjXBgv5bZ04S"
      },
      "source": [
        "xt = np.reshape(X_test,(258,1850))\n",
        "XT = xt.dot(vh[:,:100])\n"
      ],
      "execution_count": 10,
      "outputs": []
    },
    {
      "cell_type": "code",
      "metadata": {
        "colab": {
          "base_uri": "https://localhost:8080/",
          "height": 594
        },
        "id": "NahhmuI_pbxf",
        "outputId": "f867fbe5-ae95-428c-e565-2da06046e4a1"
      },
      "source": [
        "PC = vh[:9,:] # top 9 PCs\n",
        "PC_image = reshape(PC, [9, 50,37])\n",
        "fig, axs = plt.subplots(3, 3,figsize=(10,10))\n",
        "axs = axs.ravel()\n",
        "for i in range(9):\n",
        "    axs[i].imshow(PC_image[i], cmap='gray');\n"
      ],
      "execution_count": 11,
      "outputs": [
        {
          "output_type": "display_data",
          "data": {
            "image/png": "[encoded data removed]",
            "text/plain": [
              "<Figure size 720x720 with 9 Axes>"
            ]
          },
          "metadata": {
            "needs_background": "light"
          }
        }
      ]
    },
    {
      "cell_type": "code",
      "metadata": {
        "id": "EB4cDIR7OPyr"
      },
      "source": [
        "y=np.copy(y_train)\n",
        "\n",
        "y1=np.copy(y)\n",
        "y1[y==1]=0\n",
        "y1[y==2]=0\n",
        "y1[y==3]=0\n",
        "y1[y==0]=1\n",
        "y2=np.copy(y)\n",
        "y2[y==1]=1\n",
        "y2[y==2]=0\n",
        "y2[y==3]=0\n",
        "y2[y==0]=0\n",
        "y3=np.copy(y)\n",
        "y3[y==1]=0\n",
        "y3[y==2]=1\n",
        "y3[y==3]=0\n",
        "y3[y==0]=0\n",
        "y4=np.copy(y)\n",
        "y4[y==1]=0\n",
        "y4[y==2]=0\n",
        "y4[y==3]=1\n",
        "y4[y==0]=0"
      ],
      "execution_count": 12,
      "outputs": []
    },
    {
      "cell_type": "code",
      "metadata": {
        "id": "MkWZxkNyqaAd"
      },
      "source": [
        "Xtrp = hstack([ones([773,1]),np.copy(Xtr)])\n",
        "xtp = hstack([ones([258,1]),np.copy(XT)])"
      ],
      "execution_count": 13,
      "outputs": []
    },
    {
      "cell_type": "code",
      "metadata": {
        "colab": {
          "base_uri": "https://localhost:8080/"
        },
        "id": "PvRe_CkHp4OT",
        "outputId": "de8acee3-a634-4def-bb1a-783ddaf67561"
      },
      "source": [
        "# Logistic Regression with mini batch \n",
        "\n",
        "\n",
        "\n",
        "def predict(X, w):\n",
        "\tz = X.dot(w)\n",
        "\treturn 1.0 / (1.0 + exp(-z))\n",
        " \n",
        "\n",
        "\n",
        "def train_weights(X, y, l_rate_span, n_iter, weights, batch_size, threshold=0.002):\n",
        "\n",
        "  n,m = X.shape\n",
        "\n",
        "  for iter in range(n_iter):\n",
        "    l_rate   = l_rate_span[iter]\n",
        "    sum_error = 0\n",
        "    arr=arange(n)\n",
        "    np.random.shuffle(arr)\n",
        "\n",
        "    for i in range(int(n/batch_size)):\n",
        "      batch_sum = 0\n",
        "      batch=arr[i*batch_size:(i+1)*batch_size]\n",
        "\n",
        "      for j in batch:\n",
        "        pred = predict(X[j,:], weights)\n",
        "        error = pred - y[j]\n",
        "        sum_error = sum_error + error**2\n",
        "        batch_sum = batch_sum + error*X[j,:]\n",
        "      weights = weights - (l_rate/batch_size) * batch_sum\n",
        "     \n",
        "    #print('sum_error at ',iter+1, 'iteration is ', sum_error)\n",
        "\n",
        "  return weights\n",
        "\n",
        "\n",
        "weight_IC = ones((101))\n",
        "n_iter = 300\n",
        "n_span = arange(n_iter)\n",
        "l_rate_span = 1/((1+2 * n_span)**.2)\n",
        "weights1 =train_weights(Xtrp, y1, l_rate_span, n_iter, weight_IC, 25)\n",
        "weights2 =train_weights(Xtrp, y2, l_rate_span, n_iter, weight_IC, 25)\n",
        "weights3 =train_weights(Xtrp, y3, l_rate_span, n_iter, weight_IC, 25)\n",
        "weights4 =train_weights(Xtrp, y4, l_rate_span, n_iter, weight_IC, 25)\n",
        "weights_final=column_stack((weights1,weights2,weights3,weights4)) # creeate a weight matrix \n",
        "weights_final.shape"
      ],
      "execution_count": 14,
      "outputs": [
        {
          "output_type": "stream",
          "name": "stderr",
          "text": [
            "/usr/local/lib/python3.7/dist-packages/ipykernel_launcher.py:7: RuntimeWarning: overflow encountered in exp\n",
            "  import sys\n"
          ]
        },
        {
          "output_type": "execute_result",
          "data": {
            "text/plain": [
              "(101, 4)"
            ]
          },
          "metadata": {},
          "execution_count": 14
        }
      ]
    },
    {
      "cell_type": "code",
      "metadata": {
        "id": "5qp3OiD8kXxY"
      },
      "source": [
        "def predict1(x,w):\n",
        "  a = x.dot(w[:,0])\n",
        "  b = x.dot(w[:,1])\n",
        "  c = x.dot(w[:,2])\n",
        "  d = x.dot(w[:,3])\n",
        "  z = [a,b,c,d]\n",
        "  return argmax(z)"
      ],
      "execution_count": 15,
      "outputs": []
    },
    {
      "cell_type": "code",
      "metadata": {
        "colab": {
          "base_uri": "https://localhost:8080/"
        },
        "id": "HIegDm_Xw6hm",
        "outputId": "d8d8b133-2ab6-44cf-fbab-55ae6424a160"
      },
      "source": [
        "pred=[]\n",
        "for i in xtp:\n",
        "  pred.append(predict1(i,weights_final))\n",
        "\n",
        "print('Test Error for Logistic Regression is',norm(pred-y_test,0)/258)\n",
        "print(bincount(pred))\n",
        "print(bincount(y_test))\n"
      ],
      "execution_count": 16,
      "outputs": [
        {
          "output_type": "stream",
          "name": "stdout",
          "text": [
            "Test Error for Logistic Regression is 0.24031007751937986\n",
            "[ 76  35 107  40]\n",
            "[ 58  31 139  30]\n"
          ]
        }
      ]
    },
    {
      "cell_type": "code",
      "metadata": {
        "id": "8lJWk6hpSRBU"
      },
      "source": [
        "# Now we will perform SVM with Hinge Loss\n",
        "\n",
        "y = np.copy(y_train)\n",
        "y1[y==0]=1\n",
        "y1[y==1]=-1\n",
        "y1[y==2]=-1\n",
        "y1[y==3]=-1\n",
        "y2=np.copy(y)\n",
        "y2[y==1]=1\n",
        "y2[y==2]=-1\n",
        "y2[y==3]=-1\n",
        "y2[y==0]=-1\n",
        "y3=np.copy(y)\n",
        "y3[y==1]=-1\n",
        "y3[y==2]=1\n",
        "y3[y==3]=-1\n",
        "y3[y==0]=-1\n",
        "y4=np.copy(y)\n",
        "y4[y==1]=-1\n",
        "y4[y==2]=-1\n",
        "y4[y==3]=1\n",
        "y4[y==0]=-1\n",
        "\n"
      ],
      "execution_count": 17,
      "outputs": []
    },
    {
      "cell_type": "code",
      "metadata": {
        "id": "EXKFHHQUOIBB"
      },
      "source": [
        "Xtrs = np.copy(Xtr)\n",
        "xts = np.copy(XT)"
      ],
      "execution_count": 18,
      "outputs": []
    },
    {
      "cell_type": "code",
      "metadata": {
        "id": "hgMmP7UVgWTF"
      },
      "source": [
        "#@title Q2.2 your code starts here\n",
        "def predict(x, w, w0):\n",
        "\tactivation = x.dot(w)+w0\n",
        "\treturn activation\n",
        "\n",
        "\n",
        "def train_weights_hinge(X, y, learning_rate_span,lambda_param, n_iter=1000):\n",
        "  N,d = X.shape\n",
        "  w   = np.random.random_sample(d)\n",
        "  w0  = np.random.random_sample(1)\n",
        "\n",
        "  for iter in range(n_iter):\n",
        "    learning_rate = learning_rate_span[iter]\n",
        "    arr = np.arange(N)\n",
        "    random.shuffle(arr)\n",
        "    for i in arr:\n",
        "          condition = y[i] * (w.dot(X[i,:])+w0) >= 1\n",
        "          if condition:\n",
        "            w = w - learning_rate *  w\n",
        "\n",
        "          else:\n",
        "            w  = w - learning_rate * (w - lambda_param *y[i] * X[i,:] )\n",
        "            w0 = w0 - learning_rate * ( -lambda_param * y[i] ) \n",
        "\n",
        "  return w, w0          \n",
        "\n",
        "L=[10**-4, 10**-3, 10**-2, 10**-1, 1, 10, 100, 1000, 10000]\n",
        "errors = []\n",
        "n_iter = 200\n",
        "n_span = arange(n_iter)\n",
        "learning_rate_span = 1/((1+ 2*n_span)**2)\n",
        "\n",
        "\n",
        "\n"
      ],
      "execution_count": 19,
      "outputs": []
    },
    {
      "cell_type": "code",
      "metadata": {
        "id": "q3pnF_LSw2Ev"
      },
      "source": [
        "# prediction function for multiclass svm\n",
        "def predicts(x,w,w0):\n",
        "  a = x.dot(w[:,0])+w0[0]\n",
        "  b = x.dot(w[:,1])+w0[1]\n",
        "  c = x.dot(w[:,2])+w0[2]\n",
        "  d = x.dot(w[:,3])+w0[3]\n",
        "  z = [a,b,c,d]\n",
        "  return argmax(z)"
      ],
      "execution_count": 20,
      "outputs": []
    },
    {
      "cell_type": "code",
      "metadata": {
        "colab": {
          "base_uri": "https://localhost:8080/"
        },
        "id": "kUaLEKVVuZYo",
        "outputId": "b1fc4b5b-6cd6-472a-83eb-b00d81290367"
      },
      "source": [
        "\n",
        "for l in L:\n",
        "  # obtain weights for each scenario in 1 vs all\n",
        "  w1,w01 = train_weights_hinge(Xtrs, y1, learning_rate_span, l, n_iter)\n",
        "  w2,w02 = train_weights_hinge(Xtrs, y2, learning_rate_span, l, n_iter)\n",
        "  w3,w03 = train_weights_hinge(Xtrs, y3, learning_rate_span, l, n_iter)\n",
        "  w4,w04 = train_weights_hinge(Xtrs, y4, learning_rate_span, l, n_iter)\n",
        "\n",
        "  # create matrices to work with \n",
        "  w = column_stack((w1,w2,w3,w4))\n",
        "  w0 = row_stack((w01,w02,w03,w04))\n",
        "\n",
        "  pred=[]\n",
        "  for i in xts:\n",
        "    pred.append(predicts(i,w,w0))\n",
        "\n",
        "  test_error = norm(y_test-pred,0)/258\n",
        "  errors.append(test_error)\n",
        "  print('For lambda =',l, 'test error is', test_error)"
      ],
      "execution_count": 21,
      "outputs": [
        {
          "output_type": "stream",
          "name": "stdout",
          "text": [
            "For lambda = 0.0001 test error is 0.40310077519379844\n",
            "For lambda = 0.001 test error is 0.24031007751937986\n",
            "For lambda = 0.01 test error is 0.18992248062015504\n",
            "For lambda = 0.1 test error is 0.313953488372093\n",
            "For lambda = 1 test error is 0.22868217054263565\n",
            "For lambda = 10 test error is 0.2248062015503876\n",
            "For lambda = 100 test error is 0.23255813953488372\n",
            "For lambda = 1000 test error is 0.18992248062015504\n",
            "For lambda = 10000 test error is 0.23255813953488372\n"
          ]
        }
      ]
    },
    {
      "cell_type": "code",
      "metadata": {
        "colab": {
          "base_uri": "https://localhost:8080/"
        },
        "id": "X7CDvIoP6zIH",
        "outputId": "6f581313-d2d9-4701-a6b3-2feff263c133"
      },
      "source": [
        "# SVM Log Loss\n",
        "def train_weights_log(X, y, learning_rate_span,lambda_param, n_iter=1000):\n",
        "  N,d = X.shape\n",
        "  w   = np.random.random_sample(d)\n",
        "  w0  = np.random.random_sample(1)\n",
        "\n",
        "  for iter in range(n_iter):\n",
        "    learning_rate = learning_rate_span[iter]\n",
        "    arr = np.arange(N)\n",
        "    random.shuffle(arr)\n",
        "    for i in arr:\n",
        "      w  = w - learning_rate * ( (-lambda_param * y[i] * X[i,:]) / (1 + np.exp(y[i] * (w.dot(X[i,:]) + w0) ) ) + w)\n",
        "      w0 = w0 - learning_rate * ( (-lambda_param * y[i]) / (1 + np.exp(y[i] * (w.dot(X[i,:]) + w0) ) ) ) \n",
        "\n",
        "  return w, w0        \n",
        "\n",
        "\n",
        "L=[10**-4, 10**-3, 10**-2, 10**-1, 1, 10, 100, 1000, 10000]\n",
        "errors = []\n",
        "n_iter = 100\n",
        "n_span = arange(n_iter)\n",
        "learning_rate_span = 1/((1+ 2*n_span)**2)\n",
        "\n",
        "\n",
        "for l in L:\n",
        "  # obtain weights for each scenario in 1 vs all\n",
        "  w1,w01 = train_weights_log(Xtrs, y1, learning_rate_span, l, n_iter)\n",
        "  w2,w02 = train_weights_log(Xtrs, y2, learning_rate_span, l, n_iter)\n",
        "  w3,w03 = train_weights_log(Xtrs, y3, learning_rate_span, l, n_iter)\n",
        "  w4,w04 = train_weights_log(Xtrs, y4, learning_rate_span, l, n_iter)\n",
        "\n",
        "  # create matrices to work with \n",
        "  w = column_stack((w1,w2,w3,w4))\n",
        "  w0 = row_stack((w01,w02,w03,w04))\n",
        "\n",
        "  pred=[]\n",
        "  for i in xts:\n",
        "    pred.append(predicts(i,w,w0))\n",
        "\n",
        "  test_error = norm(y_test-pred,0)/258\n",
        "  errors.append(test_error)\n",
        "  print('For lambda =',l, 'test error is', test_error)"
      ],
      "execution_count": 22,
      "outputs": [
        {
          "metadata": {
            "tags": null
          },
          "name": "stderr",
          "output_type": "stream",
          "text": [
            "/usr/local/lib/python3.7/dist-packages/ipykernel_launcher.py:13: RuntimeWarning: overflow encountered in exp\n",
            "  del sys.path[0]\n",
            "/usr/local/lib/python3.7/dist-packages/ipykernel_launcher.py:12: RuntimeWarning: overflow encountered in exp\n",
            "  if sys.path[0] == '':\n"
          ]
        },
        {
          "metadata": {
            "tags": null
          },
          "name": "stdout",
          "output_type": "stream",
          "text": [
            "For lambda = 0.0001 test error is 0.43410852713178294\n",
            "For lambda = 0.001 test error is 0.3449612403100775\n",
            "For lambda = 0.01 test error is 0.20155038759689922\n",
            "For lambda = 0.1 test error is 0.24806201550387597\n",
            "For lambda = 1 test error is 0.34108527131782945\n",
            "For lambda = 10 test error is 0.2131782945736434\n",
            "For lambda = 100 test error is 0.2364341085271318\n",
            "For lambda = 1000 test error is 0.37209302325581395\n",
            "For lambda = 10000 test error is 0.22093023255813954\n"
          ]
        }
      ]
    },
    {
      "cell_type": "code",
      "metadata": {
        "id": "X2rjhEBt6zQP"
      },
      "source": [
        "# knn preparation\n",
        "Xtrk = np.copy(Xtr)\n",
        "Xtrk = Xtrk[:770,:10]\n",
        "xtk = np.copy(XT)\n",
        "xtk = xtk[:,:10]\n",
        "ytk = y_train[:770]"
      ],
      "execution_count": 23,
      "outputs": []
    },
    {
      "cell_type": "code",
      "metadata": {
        "colab": {
          "base_uri": "https://localhost:8080/",
          "height": 312
        },
        "id": "xKNHieTK6zXt",
        "outputId": "47d8bce9-4ace-4385-ead8-73fb69329e81"
      },
      "source": [
        "# KNN\n",
        "def myknn_predict(k, x_train, y_train, x_test):\n",
        "  labelEst = np.zeros(x_test.shape[0])\n",
        "  for i, x in enumerate(x_test):\n",
        "    dist            = norm(x_train - x, axis=1)\n",
        "    dist_sort_index = argsort(dist)\n",
        "    neigh_labels    = y_train[dist_sort_index[0:k]]\n",
        "    labelEst[i]     = argmax(bincount(neigh_labels))\n",
        "  return labelEst\n",
        "\n",
        "ks         = arange(1,22,1)\n",
        "scores     = []\n",
        "CV         = 5\n",
        "N_train    = y_train.shape[0]\n",
        "batch      = N_train/CV\n",
        "\n",
        "for k in ks:\n",
        "  x_train_CV = split(Xtrk, CV)\n",
        "  y_train_CV = split(ytk, CV)\n",
        "  test_errs  = []\n",
        "  for i in range(CV):\n",
        "    index = delete(arange(CV),i)\n",
        "    x_train_CV_i = vstack([x_train_CV[j] for j in index])\n",
        "    y_train_CV_i = hstack([y_train_CV[j] for j in index])\n",
        "    x_test_CV_i  = x_train_CV[i]\n",
        "    y_test_CV_i  = y_train_CV[i]\n",
        "\n",
        "    y_test_CV_i_predicted = myknn_predict(k, x_train_CV_i, y_train_CV_i, x_test_CV_i)\n",
        "    test_errs.append(norm(y_test_CV_i_predicted - y_test_CV_i, 0)/batch)\n",
        "\n",
        "  scores.append(mean(test_errs))  \n",
        "\n",
        "plt.figure()\n",
        "plt.plot(ks, scores, 'ko-')\n",
        "plt.xlabel('k')\n",
        "plt.ylabel('misclassification rate')\n",
        "plt.title('5-fold cross validation')\n"
      ],
      "execution_count": 24,
      "outputs": [
        {
          "data": {
            "text/plain": [
              "Text(0.5, 1.0, '5-fold cross validation')"
            ]
          },
          "execution_count": null,
          "metadata": {},
          "output_type": "execute_result"
        },
        {
          "data": {
            "image/png": "[encoded data removed]",
            "text/plain": [
              "<Figure size 432x288 with 1 Axes>"
            ]
          },
          "metadata": {},
          "output_type": "display_data"
        }
      ]
    },
    {
      "cell_type": "markdown",
      "metadata": {
        "id": "CeM2TnQqg1vs"
      },
      "source": [
        "# **Your Answer:**\n",
        "\n",
        "For supervised learning, I ran logistic regression with mini batch gradient descent, SVM with both hing and log loss functions, and finally KNN.\n",
        "\n",
        "First I ran PCA to reduce the dimension of the dataset from 1850 feratures to 100 in the case of SVM and logistic. A smaller reduction was required to run KNN as well as making the row axis divisible and no longer prime.\n",
        "\n",
        "  For the logistic regression, I had to convert the traditiional binary approach in order to adapt to having 4 classes instead of 2. This required multiclass classification via the use of both sigmoid and softmax activation functions. First, I created weights for each one vs all situation then created a weight matrix and finally applied a new activation function in order to predict. With the full original training sET, and a larger amount of pca features, the logistic will give roughly a 12% error. However, to decrease runtime I have settled witha 22% error on only the first 100 principle components. \n",
        "\n",
        "\n",
        "Similar to logistic, SVM returned near identical accuracy. I ran it both with hinge and log loss and returned the accuracy for a few different learning rates. SVM required a one vs all modification to y training set as well as the activation function. The function is the same one used in the logistic and works very well.\n",
        "\n",
        "\n",
        "Finally we have KNN which did not perform well. This was expected because in order to run KNN the train and test set had to be reduced greatly and lost a lot of information. The k-fold cross validation highlights a distinct lowpoint at 20 for the algorithm.\n",
        "\n",
        "\n",
        "\n",
        "\n"
      ]
    },
    {
      "cell_type": "markdown",
      "metadata": {
        "id": "Q-qadIZyjnVA"
      },
      "source": [
        "\n",
        "\n",
        "---\n",
        "\n",
        "# Task 2: Unsupervised Learning\n",
        "\n",
        "In an unsupervised way, can you develop algorithms that automatically find patterns in the faces that naturally cluster in the **training set** `(X_train)`? You may use **testing set** `(X_test, y_test)` to cross validate your performance. "
      ]
    },
    {
      "cell_type": "code",
      "metadata": {
        "id": "mBZ07BJdH0xg"
      },
      "source": [
        "\n",
        "def mykmeans(X, K, max_iter=100):\n",
        "  # step 0\n",
        "  centroids = X.copy()\n",
        "  random.shuffle(centroids)\n",
        "  centroids = centroids[:K]\n",
        "  \n",
        "  distortion_list = []\n",
        "  for i in range(max_iter):\n",
        "    # step 1\n",
        "    distances = np.sqrt(((X - centroids[:, np.newaxis])**2).sum(axis=2))\n",
        "    distortion_list.append(sum(np.min(distances, axis=0)))\n",
        "    closest   = argmin(distances, axis=0)\n",
        "    centroids_old = centroids\n",
        "    # step 2\n",
        "    centroids = array([X[closest==k].mean(axis=0) for k in range(K)])\n",
        "    # step 3\n",
        "    if sum(centroids-centroids_old) == 0.:\n",
        "     # print('Number of iteration is ', i+1)\n",
        "      break\n",
        "\n",
        "  return centroids, closest, distortion_list\n"
      ],
      "execution_count": 25,
      "outputs": []
    },
    {
      "cell_type": "code",
      "metadata": {
        "id": "62XUtjO6NgdQ"
      },
      "source": [
        "Xtm=np.copy(Xtr)\n",
        "xtm = np.copy(XT)\n"
      ],
      "execution_count": 26,
      "outputs": []
    },
    {
      "cell_type": "code",
      "metadata": {
        "id": "U0PmasjiS5e9"
      },
      "source": [
        "i=24\n",
        "centroids, closest, distortion_list = mykmeans(Xtm,i)\n"
      ],
      "execution_count": 27,
      "outputs": []
    },
    {
      "cell_type": "code",
      "metadata": {
        "colab": {
          "base_uri": "https://localhost:8080/"
        },
        "id": "EBYg5BqbvImT",
        "outputId": "d4049446-ec07-4848-db61-c5015fc7f1e3"
      },
      "source": [
        "c=[]\n",
        "t=[]\n",
        "for j in range(i):\n",
        "  a=argmax(bincount(y_train[closest==j]))\n",
        "  #out=np.reshape(centroids,(i,50,37))\n",
        "  print('Cluster '+str(j)+' is '+target_names[a])\n",
        "  t.append(a)\n",
        "\n",
        "#imshow(out[17], cmap = 'gray')\n"
      ],
      "execution_count": 28,
      "outputs": [
        {
          "metadata": {
            "tags": null
          },
          "name": "stdout",
          "output_type": "stream",
          "text": [
            "Cluster 0 is George W Bush\n",
            "Cluster 1 is Colin Powell\n",
            "Cluster 2 is Donald Rumsfeld\n",
            "Cluster 3 is George W Bush\n",
            "Cluster 4 is Colin Powell\n",
            "Cluster 5 is George W Bush\n",
            "Cluster 6 is George W Bush\n",
            "Cluster 7 is George W Bush\n",
            "Cluster 8 is George W Bush\n",
            "Cluster 9 is George W Bush\n",
            "Cluster 10 is George W Bush\n",
            "Cluster 11 is George W Bush\n",
            "Cluster 12 is George W Bush\n",
            "Cluster 13 is George W Bush\n",
            "Cluster 14 is George W Bush\n",
            "Cluster 15 is Colin Powell\n",
            "Cluster 16 is George W Bush\n",
            "Cluster 17 is Donald Rumsfeld\n",
            "Cluster 18 is Colin Powell\n",
            "Cluster 19 is George W Bush\n",
            "Cluster 20 is Colin Powell\n",
            "Cluster 21 is George W Bush\n",
            "Cluster 22 is George W Bush\n",
            "Cluster 23 is George W Bush\n"
          ]
        }
      ]
    },
    {
      "cell_type": "code",
      "metadata": {
        "colab": {
          "base_uri": "https://localhost:8080/"
        },
        "id": "KAnMj-tmESEP",
        "outputId": "a755f361-1a20-41ea-aec2-d33f5bec1c83"
      },
      "source": [
        "clust=[]\n",
        "for j in range(258):\n",
        "  out=[]\n",
        "  for k in range(i):\n",
        "    d = norm((centroids[k]-xtm[j]),2)\n",
        "    out.append(d)\n",
        "  clust.append(argmin(out))\n",
        "\n",
        "pred=[]\n",
        "for l in clust:\n",
        "  pred.append(t[l])\n",
        "  \n",
        "  \n",
        "test_error = norm(y_test-pred,0)/258\n",
        "print('For Kmeans with  ',i, 'clusters, error is: ', test_error)\n"
      ],
      "execution_count": 29,
      "outputs": [
        {
          "metadata": {
            "tags": null
          },
          "name": "stdout",
          "output_type": "stream",
          "text": [
            "For Kmeans with   24 clusters, error is:  0.4806201550387597\n"
          ]
        }
      ]
    },
    {
      "cell_type": "markdown",
      "metadata": {
        "id": "Pr7kImAPksRM"
      },
      "source": [
        "# **Your Answer:**\n",
        "\n",
        "For unupervised, I ran the Kmeans algorithm. Unfortunately the clustering was not very accurate at all and the best I could achieve was around 46%. The major challenge for obtaining the predictions was unravelling the actual clusters to see what the predicitons were. \n",
        "\n",
        "\n",
        "\n",
        "I ended up assigning each cluster to the largest bincount which was the most accuring class in that particular cluster. George Bush was the most reoccuring becuase he appeared the most in the original data set and thus Kmeans had a slight bias towards him. It is important to not the accuracy barely changes from 4 clusters to essentially infinity but in this case 28. This is because I clustered a new point based on the minimization of the L2 norm distance and every new point is measured to the distance of each cluster centroid then assigned. The reason the accuracy does not go down is because I am essentially just breaking down 4 clusters into smaller pieces which wont have any effect when taking the distance because it will still classify same as the larger one."
      ]
    }
  ]
}